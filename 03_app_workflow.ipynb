{
 "cells": [
  {
   "cell_type": "markdown",
   "id": "7c9bc898",
   "metadata": {},
   "source": [
    "# App Workflow\n",
    "This notebook will outline the workflow needed for the Shiny app"
   ]
  },
  {
   "cell_type": "code",
   "execution_count": 1,
   "id": "5080bb9f",
   "metadata": {},
   "outputs": [],
   "source": [
    "# import packages\n",
    "import pandas as pd\n",
    "import geopandas as gpd\n",
    "import pickle\n",
    "from datetime import datetime\n",
    "import json\n",
    "\n",
    "# visulaztion packages\n",
    "import ipyleaflet\n",
    "from branca.colormap import linear\n",
    "import ipywidgets\n",
    "\n",
    "# import functions\n",
    "import sys\n",
    "sys.path.append('/Users/justinwilliams/projects/gun-violence/src')\n",
    "from shiny_functions import groupby_mult, rate_per_1k, rgb_to_hex, divide_metric, int_choro_ipyleaflet\n",
    "\n",
    "# supress warnings\n",
    "import warnings\n",
    "warnings.filterwarnings(\"ignore\")"
   ]
  },
  {
   "cell_type": "code",
   "execution_count": 2,
   "id": "307599bf",
   "metadata": {},
   "outputs": [],
   "source": [
    "# import df\n",
    "df_gun = pd.read_pickle(\"./data/pickle/df_gun\")\n",
    "df_census = pd.read_pickle(\"./data/pickle/df_us_census\")\n",
    "df_gun_laws = pd.read_pickle(\"./data/pickle/df_gun_laws\")\n",
    "us_shp = gpd.GeoDataFrame(pd.read_pickle(\"./data/pickle/us_shp\"))"
   ]
  },
  {
   "cell_type": "code",
   "execution_count": 3,
   "id": "555bd675",
   "metadata": {},
   "outputs": [],
   "source": [
    "# drop dc\n",
    "df_gun=df_gun[df_gun[\"state\"] != \"District of Columbia\"]"
   ]
  },
  {
   "cell_type": "code",
   "execution_count": 4,
   "id": "cb2d6254",
   "metadata": {},
   "outputs": [],
   "source": [
    "# create total injured/killed column per month\n",
    "df_gun[\"total_injured_killed\"] = \\\n",
    "df_gun[\"#_killed\"] + df_gun[\"#_injured\"]"
   ]
  },
  {
   "cell_type": "code",
   "execution_count": 5,
   "id": "99aafb33",
   "metadata": {},
   "outputs": [
    {
     "data": {
      "text/html": [
       "<div>\n",
       "<style scoped>\n",
       "    .dataframe tbody tr th:only-of-type {\n",
       "        vertical-align: middle;\n",
       "    }\n",
       "\n",
       "    .dataframe tbody tr th {\n",
       "        vertical-align: top;\n",
       "    }\n",
       "\n",
       "    .dataframe thead th {\n",
       "        text-align: right;\n",
       "    }\n",
       "</style>\n",
       "<table border=\"1\" class=\"dataframe\">\n",
       "  <thead>\n",
       "    <tr style=\"text-align: right;\">\n",
       "      <th></th>\n",
       "      <th>year</th>\n",
       "      <th>monthname</th>\n",
       "      <th>state</th>\n",
       "      <th>#_injured</th>\n",
       "      <th>#_killed</th>\n",
       "      <th>total_injured_killed</th>\n",
       "      <th>incident_id</th>\n",
       "      <th>month</th>\n",
       "    </tr>\n",
       "  </thead>\n",
       "  <tbody>\n",
       "    <tr>\n",
       "      <th>0</th>\n",
       "      <td>2021</td>\n",
       "      <td>Jul</td>\n",
       "      <td>Illinois</td>\n",
       "      <td>79</td>\n",
       "      <td>8</td>\n",
       "      <td>87</td>\n",
       "      <td>17</td>\n",
       "      <td>7</td>\n",
       "    </tr>\n",
       "    <tr>\n",
       "      <th>1</th>\n",
       "      <td>2020</td>\n",
       "      <td>Jul</td>\n",
       "      <td>Illinois</td>\n",
       "      <td>82</td>\n",
       "      <td>15</td>\n",
       "      <td>97</td>\n",
       "      <td>15</td>\n",
       "      <td>7</td>\n",
       "    </tr>\n",
       "    <tr>\n",
       "      <th>2</th>\n",
       "      <td>2022</td>\n",
       "      <td>Jul</td>\n",
       "      <td>Illinois</td>\n",
       "      <td>79</td>\n",
       "      <td>14</td>\n",
       "      <td>93</td>\n",
       "      <td>14</td>\n",
       "      <td>7</td>\n",
       "    </tr>\n",
       "    <tr>\n",
       "      <th>3</th>\n",
       "      <td>2021</td>\n",
       "      <td>Jun</td>\n",
       "      <td>Illinois</td>\n",
       "      <td>66</td>\n",
       "      <td>11</td>\n",
       "      <td>77</td>\n",
       "      <td>13</td>\n",
       "      <td>6</td>\n",
       "    </tr>\n",
       "    <tr>\n",
       "      <th>4</th>\n",
       "      <td>2021</td>\n",
       "      <td>Aug</td>\n",
       "      <td>Illinois</td>\n",
       "      <td>52</td>\n",
       "      <td>9</td>\n",
       "      <td>61</td>\n",
       "      <td>13</td>\n",
       "      <td>8</td>\n",
       "    </tr>\n",
       "    <tr>\n",
       "      <th>5</th>\n",
       "      <td>2020</td>\n",
       "      <td>Jun</td>\n",
       "      <td>Illinois</td>\n",
       "      <td>50</td>\n",
       "      <td>5</td>\n",
       "      <td>55</td>\n",
       "      <td>13</td>\n",
       "      <td>6</td>\n",
       "    </tr>\n",
       "    <tr>\n",
       "      <th>6</th>\n",
       "      <td>2021</td>\n",
       "      <td>Sep</td>\n",
       "      <td>Illinois</td>\n",
       "      <td>45</td>\n",
       "      <td>9</td>\n",
       "      <td>54</td>\n",
       "      <td>11</td>\n",
       "      <td>9</td>\n",
       "    </tr>\n",
       "    <tr>\n",
       "      <th>7</th>\n",
       "      <td>2020</td>\n",
       "      <td>Jun</td>\n",
       "      <td>New York</td>\n",
       "      <td>50</td>\n",
       "      <td>3</td>\n",
       "      <td>53</td>\n",
       "      <td>10</td>\n",
       "      <td>6</td>\n",
       "    </tr>\n",
       "    <tr>\n",
       "      <th>8</th>\n",
       "      <td>2020</td>\n",
       "      <td>Aug</td>\n",
       "      <td>Illinois</td>\n",
       "      <td>41</td>\n",
       "      <td>5</td>\n",
       "      <td>46</td>\n",
       "      <td>10</td>\n",
       "      <td>8</td>\n",
       "    </tr>\n",
       "    <tr>\n",
       "      <th>9</th>\n",
       "      <td>2021</td>\n",
       "      <td>Jun</td>\n",
       "      <td>Ohio</td>\n",
       "      <td>44</td>\n",
       "      <td>6</td>\n",
       "      <td>50</td>\n",
       "      <td>9</td>\n",
       "      <td>6</td>\n",
       "    </tr>\n",
       "    <tr>\n",
       "      <th>10</th>\n",
       "      <td>2021</td>\n",
       "      <td>Jul</td>\n",
       "      <td>Texas</td>\n",
       "      <td>39</td>\n",
       "      <td>13</td>\n",
       "      <td>52</td>\n",
       "      <td>9</td>\n",
       "      <td>7</td>\n",
       "    </tr>\n",
       "    <tr>\n",
       "      <th>11</th>\n",
       "      <td>2020</td>\n",
       "      <td>Aug</td>\n",
       "      <td>Pennsylvania</td>\n",
       "      <td>39</td>\n",
       "      <td>2</td>\n",
       "      <td>41</td>\n",
       "      <td>9</td>\n",
       "      <td>8</td>\n",
       "    </tr>\n",
       "  </tbody>\n",
       "</table>\n",
       "</div>"
      ],
      "text/plain": [
       "    year monthname         state  #_injured  #_killed  total_injured_killed  \\\n",
       "0   2021       Jul      Illinois         79         8                    87   \n",
       "1   2020       Jul      Illinois         82        15                    97   \n",
       "2   2022       Jul      Illinois         79        14                    93   \n",
       "3   2021       Jun      Illinois         66        11                    77   \n",
       "4   2021       Aug      Illinois         52         9                    61   \n",
       "5   2020       Jun      Illinois         50         5                    55   \n",
       "6   2021       Sep      Illinois         45         9                    54   \n",
       "7   2020       Jun      New York         50         3                    53   \n",
       "8   2020       Aug      Illinois         41         5                    46   \n",
       "9   2021       Jun          Ohio         44         6                    50   \n",
       "10  2021       Jul         Texas         39        13                    52   \n",
       "11  2020       Aug  Pennsylvania         39         2                    41   \n",
       "\n",
       "    incident_id  month  \n",
       "0            17      7  \n",
       "1            15      7  \n",
       "2            14      7  \n",
       "3            13      6  \n",
       "4            13      8  \n",
       "5            13      6  \n",
       "6            11      9  \n",
       "7            10      6  \n",
       "8            10      8  \n",
       "9             9      6  \n",
       "10            9      7  \n",
       "11            9      8  "
      ]
     },
     "execution_count": 5,
     "metadata": {},
     "output_type": "execute_result"
    }
   ],
   "source": [
    "# create variables for groupby func\n",
    "groupby_list = [\"year\", \"monthname\",\"state\"]\n",
    "agg_dict = {\"#_injured\":\"sum\",\"#_killed\":\"sum\", \"total_injured_killed\":\"sum\",\n",
    "            \"incident_id\":\"count\",\"month\":\"first\",}\n",
    "\n",
    "sort_order = [\"incident_id\",\"#_injured\",\"#_killed\"]\n",
    "\n",
    "# apply function\n",
    "df_yr_mon_state_grp = groupby_mult(df_gun, groupby_list, agg_dict, sort_order)\n",
    "\n",
    "# preview results\n",
    "df_yr_mon_state_grp.head(12)"
   ]
  },
  {
   "cell_type": "code",
   "execution_count": 6,
   "id": "13a60ba3",
   "metadata": {},
   "outputs": [],
   "source": [
    "# rename incident id column to count\n",
    "df_yr_mon_state_grp.rename(columns={\"incident_id\":\"count\"}, inplace=True)"
   ]
  },
  {
   "cell_type": "markdown",
   "id": "256aed84",
   "metadata": {},
   "source": [
    "Create date column as datetime from `year` and `monthname` for date range in ui portion of shiny app"
   ]
  },
  {
   "cell_type": "code",
   "execution_count": 7,
   "id": "945872f0",
   "metadata": {},
   "outputs": [],
   "source": [
    "df_yr_mon_state_grp[\"date\"] = pd.to_datetime(df_yr_mon_state_grp[['year', 'month']]\\\n",
    "                                             .assign(DAY=1)).astype('str')\n",
    "\n",
    "df_yr_mon_state_grp[\"date\"]= \\\n",
    "df_yr_mon_state_grp[\"date\"].apply(lambda x: datetime.strptime(x, \"%Y-%m-%d\").date())"
   ]
  },
  {
   "cell_type": "code",
   "execution_count": 8,
   "id": "342954c6",
   "metadata": {},
   "outputs": [
    {
     "data": {
      "text/plain": [
       "dtype('O')"
      ]
     },
     "execution_count": 8,
     "metadata": {},
     "output_type": "execute_result"
    }
   ],
   "source": [
    "df_yr_mon_state_grp[\"date\"].dtype"
   ]
  },
  {
   "cell_type": "code",
   "execution_count": 9,
   "id": "85f00f1b",
   "metadata": {},
   "outputs": [
    {
     "data": {
      "text/plain": [
       "datetime.date(2022, 12, 1)"
      ]
     },
     "execution_count": 9,
     "metadata": {},
     "output_type": "execute_result"
    }
   ],
   "source": [
    "max(df_yr_mon_state_grp[\"date\"])"
   ]
  },
  {
   "cell_type": "code",
   "execution_count": 10,
   "id": "eea7fd43",
   "metadata": {},
   "outputs": [
    {
     "name": "stdout",
     "output_type": "stream",
     "text": [
      "<class 'pandas.core.frame.DataFrame'>\n",
      "RangeIndex: 839 entries, 0 to 838\n",
      "Data columns (total 9 columns):\n",
      " #   Column                Non-Null Count  Dtype \n",
      "---  ------                --------------  ----- \n",
      " 0   year                  839 non-null    int64 \n",
      " 1   monthname             839 non-null    object\n",
      " 2   state                 839 non-null    object\n",
      " 3   #_injured             839 non-null    int64 \n",
      " 4   #_killed              839 non-null    int64 \n",
      " 5   total_injured_killed  839 non-null    int64 \n",
      " 6   count                 839 non-null    int64 \n",
      " 7   month                 839 non-null    int64 \n",
      " 8   date                  839 non-null    object\n",
      "dtypes: int64(6), object(3)\n",
      "memory usage: 59.1+ KB\n"
     ]
    }
   ],
   "source": [
    "df_yr_mon_state_grp.info()"
   ]
  },
  {
   "cell_type": "markdown",
   "id": "3efbaacf",
   "metadata": {},
   "source": [
    "Pickle df for shiny app."
   ]
  },
  {
   "cell_type": "code",
   "execution_count": 11,
   "id": "756dcc49",
   "metadata": {},
   "outputs": [],
   "source": [
    "df_yr_mon_state_grp.to_pickle(\"./data/pickle/df_yr_mon_state\")"
   ]
  },
  {
   "cell_type": "markdown",
   "id": "c02798c2",
   "metadata": {},
   "source": [
    "Subset for year THEN join"
   ]
  },
  {
   "cell_type": "code",
   "execution_count": 12,
   "id": "f88a2083",
   "metadata": {},
   "outputs": [],
   "source": [
    "# define start and enddate\n",
    "startdate = pd.to_datetime(\"2019-01-01\").date()\n",
    "enddate = pd.to_datetime(\"2022-12-01\").date()"
   ]
  },
  {
   "cell_type": "code",
   "execution_count": 13,
   "id": "ca8b5901",
   "metadata": {},
   "outputs": [],
   "source": [
    "# subset for one year, and month otherwise won't be able to graph in this manner\n",
    "df_subset=df_yr_mon_state_grp[(df_yr_mon_state_grp[\"date\"] >= startdate) &\\\n",
    "                     (df_yr_mon_state_grp[\"date\"] < enddate)]"
   ]
  },
  {
   "cell_type": "markdown",
   "id": "3f4b2114",
   "metadata": {},
   "source": [
    "Group subset by state"
   ]
  },
  {
   "cell_type": "code",
   "execution_count": 14,
   "id": "f2278689",
   "metadata": {},
   "outputs": [
    {
     "data": {
      "text/html": [
       "<div>\n",
       "<style scoped>\n",
       "    .dataframe tbody tr th:only-of-type {\n",
       "        vertical-align: middle;\n",
       "    }\n",
       "\n",
       "    .dataframe tbody tr th {\n",
       "        vertical-align: top;\n",
       "    }\n",
       "\n",
       "    .dataframe thead th {\n",
       "        text-align: right;\n",
       "    }\n",
       "</style>\n",
       "<table border=\"1\" class=\"dataframe\">\n",
       "  <thead>\n",
       "    <tr style=\"text-align: right;\">\n",
       "      <th></th>\n",
       "      <th>state</th>\n",
       "      <th>count</th>\n",
       "      <th>#_injured</th>\n",
       "      <th>#_killed</th>\n",
       "      <th>total_injured_killed</th>\n",
       "    </tr>\n",
       "  </thead>\n",
       "  <tbody>\n",
       "    <tr>\n",
       "      <th>0</th>\n",
       "      <td>Illinois</td>\n",
       "      <td>214</td>\n",
       "      <td>963</td>\n",
       "      <td>153</td>\n",
       "      <td>1116</td>\n",
       "    </tr>\n",
       "    <tr>\n",
       "      <th>1</th>\n",
       "      <td>Texas</td>\n",
       "      <td>146</td>\n",
       "      <td>584</td>\n",
       "      <td>200</td>\n",
       "      <td>784</td>\n",
       "    </tr>\n",
       "    <tr>\n",
       "      <th>2</th>\n",
       "      <td>California</td>\n",
       "      <td>145</td>\n",
       "      <td>559</td>\n",
       "      <td>179</td>\n",
       "      <td>738</td>\n",
       "    </tr>\n",
       "    <tr>\n",
       "      <th>3</th>\n",
       "      <td>New York</td>\n",
       "      <td>104</td>\n",
       "      <td>455</td>\n",
       "      <td>57</td>\n",
       "      <td>512</td>\n",
       "    </tr>\n",
       "    <tr>\n",
       "      <th>4</th>\n",
       "      <td>Pennsylvania</td>\n",
       "      <td>104</td>\n",
       "      <td>432</td>\n",
       "      <td>66</td>\n",
       "      <td>498</td>\n",
       "    </tr>\n",
       "  </tbody>\n",
       "</table>\n",
       "</div>"
      ],
      "text/plain": [
       "          state  count  #_injured  #_killed  total_injured_killed\n",
       "0      Illinois    214        963       153                  1116\n",
       "1         Texas    146        584       200                   784\n",
       "2    California    145        559       179                   738\n",
       "3      New York    104        455        57                   512\n",
       "4  Pennsylvania    104        432        66                   498"
      ]
     },
     "execution_count": 14,
     "metadata": {},
     "output_type": "execute_result"
    }
   ],
   "source": [
    "# create variables for function\n",
    "groupby_list = [\"state\"]\n",
    "agg_dict = {\"count\":\"sum\",\"#_injured\":\"sum\",\"#_killed\":\"sum\",\"total_injured_killed\":\"sum\"}\n",
    "sort_list = [\"count\",\"#_injured\",\"#_killed\"]\n",
    "\n",
    "# apply function\n",
    "df_subset_state_grp = groupby_mult(df_yr_mon_state_grp, groupby_list, agg_dict, sort_list)\n",
    "\n",
    "# preview result\n",
    "df_subset_state_grp.head()"
   ]
  },
  {
   "cell_type": "code",
   "execution_count": 15,
   "id": "a1d9c33a",
   "metadata": {},
   "outputs": [],
   "source": [
    "# join census data for population\n",
    "df_subset_state_census=df_subset_state_grp.merge(df_census,how=\"outer\")"
   ]
  },
  {
   "cell_type": "markdown",
   "id": "e2f5b53d",
   "metadata": {},
   "source": [
    "Get ratio per 1k by state"
   ]
  },
  {
   "cell_type": "code",
   "execution_count": 16,
   "id": "f9611bdc",
   "metadata": {},
   "outputs": [
    {
     "data": {
      "text/html": [
       "<div>\n",
       "<style scoped>\n",
       "    .dataframe tbody tr th:only-of-type {\n",
       "        vertical-align: middle;\n",
       "    }\n",
       "\n",
       "    .dataframe tbody tr th {\n",
       "        vertical-align: top;\n",
       "    }\n",
       "\n",
       "    .dataframe thead th {\n",
       "        text-align: right;\n",
       "    }\n",
       "</style>\n",
       "<table border=\"1\" class=\"dataframe\">\n",
       "  <thead>\n",
       "    <tr style=\"text-align: right;\">\n",
       "      <th></th>\n",
       "      <th>state</th>\n",
       "      <th>count</th>\n",
       "      <th>#_injured</th>\n",
       "      <th>#_killed</th>\n",
       "      <th>total_injured_killed</th>\n",
       "      <th>population</th>\n",
       "      <th>state_fips</th>\n",
       "      <th>pop_per_1k</th>\n",
       "      <th>count_per_1k</th>\n",
       "      <th>injured_per_1k</th>\n",
       "      <th>killed_per_1k</th>\n",
       "      <th>total_per_1k</th>\n",
       "    </tr>\n",
       "  </thead>\n",
       "  <tbody>\n",
       "    <tr>\n",
       "      <th>0</th>\n",
       "      <td>Illinois</td>\n",
       "      <td>214.0</td>\n",
       "      <td>963.0</td>\n",
       "      <td>153.0</td>\n",
       "      <td>1116.0</td>\n",
       "      <td>12716164.0</td>\n",
       "      <td>17</td>\n",
       "      <td>12716.0</td>\n",
       "      <td>1.68</td>\n",
       "      <td>7.57</td>\n",
       "      <td>1.20</td>\n",
       "      <td>8.78</td>\n",
       "    </tr>\n",
       "    <tr>\n",
       "      <th>1</th>\n",
       "      <td>Texas</td>\n",
       "      <td>146.0</td>\n",
       "      <td>584.0</td>\n",
       "      <td>200.0</td>\n",
       "      <td>784.0</td>\n",
       "      <td>28635442.0</td>\n",
       "      <td>48</td>\n",
       "      <td>28635.0</td>\n",
       "      <td>0.51</td>\n",
       "      <td>2.04</td>\n",
       "      <td>0.70</td>\n",
       "      <td>2.74</td>\n",
       "    </tr>\n",
       "    <tr>\n",
       "      <th>2</th>\n",
       "      <td>California</td>\n",
       "      <td>145.0</td>\n",
       "      <td>559.0</td>\n",
       "      <td>179.0</td>\n",
       "      <td>738.0</td>\n",
       "      <td>39346023.0</td>\n",
       "      <td>06</td>\n",
       "      <td>39346.0</td>\n",
       "      <td>0.37</td>\n",
       "      <td>1.42</td>\n",
       "      <td>0.45</td>\n",
       "      <td>1.88</td>\n",
       "    </tr>\n",
       "    <tr>\n",
       "      <th>3</th>\n",
       "      <td>New York</td>\n",
       "      <td>104.0</td>\n",
       "      <td>455.0</td>\n",
       "      <td>57.0</td>\n",
       "      <td>512.0</td>\n",
       "      <td>19514849.0</td>\n",
       "      <td>36</td>\n",
       "      <td>19515.0</td>\n",
       "      <td>0.53</td>\n",
       "      <td>2.33</td>\n",
       "      <td>0.29</td>\n",
       "      <td>2.62</td>\n",
       "    </tr>\n",
       "    <tr>\n",
       "      <th>4</th>\n",
       "      <td>Pennsylvania</td>\n",
       "      <td>104.0</td>\n",
       "      <td>432.0</td>\n",
       "      <td>66.0</td>\n",
       "      <td>498.0</td>\n",
       "      <td>12794885.0</td>\n",
       "      <td>42</td>\n",
       "      <td>12795.0</td>\n",
       "      <td>0.81</td>\n",
       "      <td>3.38</td>\n",
       "      <td>0.52</td>\n",
       "      <td>3.89</td>\n",
       "    </tr>\n",
       "  </tbody>\n",
       "</table>\n",
       "</div>"
      ],
      "text/plain": [
       "          state  count  #_injured  #_killed  total_injured_killed  population  \\\n",
       "0      Illinois  214.0      963.0     153.0                1116.0  12716164.0   \n",
       "1         Texas  146.0      584.0     200.0                 784.0  28635442.0   \n",
       "2    California  145.0      559.0     179.0                 738.0  39346023.0   \n",
       "3      New York  104.0      455.0      57.0                 512.0  19514849.0   \n",
       "4  Pennsylvania  104.0      432.0      66.0                 498.0  12794885.0   \n",
       "\n",
       "  state_fips  pop_per_1k  count_per_1k  injured_per_1k  killed_per_1k  \\\n",
       "0         17     12716.0          1.68            7.57           1.20   \n",
       "1         48     28635.0          0.51            2.04           0.70   \n",
       "2         06     39346.0          0.37            1.42           0.45   \n",
       "3         36     19515.0          0.53            2.33           0.29   \n",
       "4         42     12795.0          0.81            3.38           0.52   \n",
       "\n",
       "   total_per_1k  \n",
       "0          8.78  \n",
       "1          2.74  \n",
       "2          1.88  \n",
       "3          2.62  \n",
       "4          3.89  "
      ]
     },
     "execution_count": 16,
     "metadata": {},
     "output_type": "execute_result"
    }
   ],
   "source": [
    "# create lists for function\n",
    "col_list = [\"count\",\"#_injured\", \"#_killed\", \"total_injured_killed\"]\n",
    "new_col_list = [\"count_per_1k\", \"injured_per_1k\",\"killed_per_1k\",\"total_per_1k\"]\n",
    "\n",
    "# pass to function\n",
    "rate_per_1k(df_subset_state_census, col_list, new_col_list)\n",
    "\n",
    "# preview\n",
    "df_subset_state_census.head()"
   ]
  },
  {
   "cell_type": "markdown",
   "id": "6fdf603c",
   "metadata": {},
   "source": [
    "Define metric division"
   ]
  },
  {
   "cell_type": "code",
   "execution_count": 45,
   "id": "5e09dc48",
   "metadata": {},
   "outputs": [
    {
     "data": {
      "text/plain": [
       "[0.0, 0.31, 0.61, 0.92, 1.23, 1.53, 1.84]"
      ]
     },
     "execution_count": 45,
     "metadata": {},
     "output_type": "execute_result"
    }
   ],
   "source": [
    "# create division of metric for legend\n",
    "metric=divide_metric(df_subset_state_census,\"killed_per_1k\")\n",
    "metric"
   ]
  },
  {
   "cell_type": "markdown",
   "id": "c3ec3171",
   "metadata": {},
   "source": [
    "Define rgb list"
   ]
  },
  {
   "cell_type": "code",
   "execution_count": 44,
   "id": "75d492d7",
   "metadata": {},
   "outputs": [],
   "source": [
    "rgb_list = rgb_to_hex(linear.Blues_07.colors)"
   ]
  },
  {
   "cell_type": "markdown",
   "id": "5b664048",
   "metadata": {},
   "source": [
    "Then we need to join gun laws"
   ]
  },
  {
   "cell_type": "code",
   "execution_count": 35,
   "id": "424ec7a8",
   "metadata": {},
   "outputs": [],
   "source": [
    "# merge gun laws\n",
    "df_subset_census_laws = df_subset_state_census.merge(df_gun_laws)"
   ]
  },
  {
   "cell_type": "markdown",
   "id": "c0d8f454",
   "metadata": {},
   "source": [
    "Now we need to join the shapefile"
   ]
  },
  {
   "cell_type": "code",
   "execution_count": 36,
   "id": "18aa3258",
   "metadata": {},
   "outputs": [
    {
     "data": {
      "text/html": [
       "<div>\n",
       "<style scoped>\n",
       "    .dataframe tbody tr th:only-of-type {\n",
       "        vertical-align: middle;\n",
       "    }\n",
       "\n",
       "    .dataframe tbody tr th {\n",
       "        vertical-align: top;\n",
       "    }\n",
       "\n",
       "    .dataframe thead th {\n",
       "        text-align: right;\n",
       "    }\n",
       "</style>\n",
       "<table border=\"1\" class=\"dataframe\">\n",
       "  <thead>\n",
       "    <tr style=\"text-align: right;\">\n",
       "      <th></th>\n",
       "      <th>state</th>\n",
       "      <th>count</th>\n",
       "      <th>#_injured</th>\n",
       "      <th>#_killed</th>\n",
       "      <th>total_injured_killed</th>\n",
       "      <th>population</th>\n",
       "      <th>state_fips</th>\n",
       "      <th>pop_per_1k</th>\n",
       "      <th>count_per_1k</th>\n",
       "      <th>injured_per_1k</th>\n",
       "      <th>killed_per_1k</th>\n",
       "      <th>total_per_1k</th>\n",
       "      <th>lawtotal</th>\n",
       "    </tr>\n",
       "  </thead>\n",
       "  <tbody>\n",
       "    <tr>\n",
       "      <th>0</th>\n",
       "      <td>Illinois</td>\n",
       "      <td>214.0</td>\n",
       "      <td>963.0</td>\n",
       "      <td>153.0</td>\n",
       "      <td>1116.0</td>\n",
       "      <td>12716164.0</td>\n",
       "      <td>17</td>\n",
       "      <td>12716.0</td>\n",
       "      <td>1.68</td>\n",
       "      <td>7.57</td>\n",
       "      <td>1.20</td>\n",
       "      <td>8.78</td>\n",
       "      <td>70</td>\n",
       "    </tr>\n",
       "    <tr>\n",
       "      <th>1</th>\n",
       "      <td>Texas</td>\n",
       "      <td>146.0</td>\n",
       "      <td>584.0</td>\n",
       "      <td>200.0</td>\n",
       "      <td>784.0</td>\n",
       "      <td>28635442.0</td>\n",
       "      <td>48</td>\n",
       "      <td>28635.0</td>\n",
       "      <td>0.51</td>\n",
       "      <td>2.04</td>\n",
       "      <td>0.70</td>\n",
       "      <td>2.74</td>\n",
       "      <td>18</td>\n",
       "    </tr>\n",
       "    <tr>\n",
       "      <th>2</th>\n",
       "      <td>California</td>\n",
       "      <td>145.0</td>\n",
       "      <td>559.0</td>\n",
       "      <td>179.0</td>\n",
       "      <td>738.0</td>\n",
       "      <td>39346023.0</td>\n",
       "      <td>06</td>\n",
       "      <td>39346.0</td>\n",
       "      <td>0.37</td>\n",
       "      <td>1.42</td>\n",
       "      <td>0.45</td>\n",
       "      <td>1.88</td>\n",
       "      <td>111</td>\n",
       "    </tr>\n",
       "    <tr>\n",
       "      <th>3</th>\n",
       "      <td>New York</td>\n",
       "      <td>104.0</td>\n",
       "      <td>455.0</td>\n",
       "      <td>57.0</td>\n",
       "      <td>512.0</td>\n",
       "      <td>19514849.0</td>\n",
       "      <td>36</td>\n",
       "      <td>19515.0</td>\n",
       "      <td>0.53</td>\n",
       "      <td>2.33</td>\n",
       "      <td>0.29</td>\n",
       "      <td>2.62</td>\n",
       "      <td>77</td>\n",
       "    </tr>\n",
       "    <tr>\n",
       "      <th>4</th>\n",
       "      <td>Pennsylvania</td>\n",
       "      <td>104.0</td>\n",
       "      <td>432.0</td>\n",
       "      <td>66.0</td>\n",
       "      <td>498.0</td>\n",
       "      <td>12794885.0</td>\n",
       "      <td>42</td>\n",
       "      <td>12795.0</td>\n",
       "      <td>0.81</td>\n",
       "      <td>3.38</td>\n",
       "      <td>0.52</td>\n",
       "      <td>3.89</td>\n",
       "      <td>39</td>\n",
       "    </tr>\n",
       "  </tbody>\n",
       "</table>\n",
       "</div>"
      ],
      "text/plain": [
       "          state  count  #_injured  #_killed  total_injured_killed  population  \\\n",
       "0      Illinois  214.0      963.0     153.0                1116.0  12716164.0   \n",
       "1         Texas  146.0      584.0     200.0                 784.0  28635442.0   \n",
       "2    California  145.0      559.0     179.0                 738.0  39346023.0   \n",
       "3      New York  104.0      455.0      57.0                 512.0  19514849.0   \n",
       "4  Pennsylvania  104.0      432.0      66.0                 498.0  12794885.0   \n",
       "\n",
       "  state_fips  pop_per_1k  count_per_1k  injured_per_1k  killed_per_1k  \\\n",
       "0         17     12716.0          1.68            7.57           1.20   \n",
       "1         48     28635.0          0.51            2.04           0.70   \n",
       "2         06     39346.0          0.37            1.42           0.45   \n",
       "3         36     19515.0          0.53            2.33           0.29   \n",
       "4         42     12795.0          0.81            3.38           0.52   \n",
       "\n",
       "   total_per_1k  lawtotal  \n",
       "0          8.78        70  \n",
       "1          2.74        18  \n",
       "2          1.88       111  \n",
       "3          2.62        77  \n",
       "4          3.89        39  "
      ]
     },
     "execution_count": 36,
     "metadata": {},
     "output_type": "execute_result"
    }
   ],
   "source": [
    "df_subset_census_laws.head()"
   ]
  },
  {
   "cell_type": "code",
   "execution_count": 37,
   "id": "9b8074d9",
   "metadata": {},
   "outputs": [
    {
     "data": {
      "text/html": [
       "<div>\n",
       "<style scoped>\n",
       "    .dataframe tbody tr th:only-of-type {\n",
       "        vertical-align: middle;\n",
       "    }\n",
       "\n",
       "    .dataframe tbody tr th {\n",
       "        vertical-align: top;\n",
       "    }\n",
       "\n",
       "    .dataframe thead th {\n",
       "        text-align: right;\n",
       "    }\n",
       "</style>\n",
       "<table border=\"1\" class=\"dataframe\">\n",
       "  <thead>\n",
       "    <tr style=\"text-align: right;\">\n",
       "      <th></th>\n",
       "      <th>statefp</th>\n",
       "      <th>statens</th>\n",
       "      <th>affgeoid</th>\n",
       "      <th>geoid</th>\n",
       "      <th>stusps</th>\n",
       "      <th>name</th>\n",
       "      <th>lsad</th>\n",
       "      <th>aland</th>\n",
       "      <th>awater</th>\n",
       "      <th>geometry</th>\n",
       "    </tr>\n",
       "  </thead>\n",
       "  <tbody>\n",
       "    <tr>\n",
       "      <th>0</th>\n",
       "      <td>56</td>\n",
       "      <td>01779807</td>\n",
       "      <td>0400000US56</td>\n",
       "      <td>56</td>\n",
       "      <td>WY</td>\n",
       "      <td>Wyoming</td>\n",
       "      <td>00</td>\n",
       "      <td>251458712294</td>\n",
       "      <td>1867503716</td>\n",
       "      <td>POLYGON ((-111.05456 45.00095, -111.04507 45.0...</td>\n",
       "    </tr>\n",
       "    <tr>\n",
       "      <th>1</th>\n",
       "      <td>02</td>\n",
       "      <td>01785533</td>\n",
       "      <td>0400000US02</td>\n",
       "      <td>02</td>\n",
       "      <td>AK</td>\n",
       "      <td>Alaska</td>\n",
       "      <td>00</td>\n",
       "      <td>1478942847588</td>\n",
       "      <td>245378425142</td>\n",
       "      <td>MULTIPOLYGON (((179.48246 51.98284, 179.48657 ...</td>\n",
       "    </tr>\n",
       "    <tr>\n",
       "      <th>2</th>\n",
       "      <td>24</td>\n",
       "      <td>01714934</td>\n",
       "      <td>0400000US24</td>\n",
       "      <td>24</td>\n",
       "      <td>MD</td>\n",
       "      <td>Maryland</td>\n",
       "      <td>00</td>\n",
       "      <td>25151992308</td>\n",
       "      <td>6979074857</td>\n",
       "      <td>MULTIPOLYGON (((-76.05015 37.98691, -76.04998 ...</td>\n",
       "    </tr>\n",
       "    <tr>\n",
       "      <th>4</th>\n",
       "      <td>05</td>\n",
       "      <td>00068085</td>\n",
       "      <td>0400000US05</td>\n",
       "      <td>05</td>\n",
       "      <td>AR</td>\n",
       "      <td>Arkansas</td>\n",
       "      <td>00</td>\n",
       "      <td>134660767709</td>\n",
       "      <td>3121950081</td>\n",
       "      <td>POLYGON ((-94.61792 36.49941, -94.61765 36.499...</td>\n",
       "    </tr>\n",
       "    <tr>\n",
       "      <th>5</th>\n",
       "      <td>38</td>\n",
       "      <td>01779797</td>\n",
       "      <td>0400000US38</td>\n",
       "      <td>38</td>\n",
       "      <td>ND</td>\n",
       "      <td>North Dakota</td>\n",
       "      <td>00</td>\n",
       "      <td>178694310772</td>\n",
       "      <td>4414779956</td>\n",
       "      <td>POLYGON ((-104.04868 48.86378, -104.04865 48.8...</td>\n",
       "    </tr>\n",
       "  </tbody>\n",
       "</table>\n",
       "</div>"
      ],
      "text/plain": [
       "  statefp   statens     affgeoid geoid stusps          name lsad  \\\n",
       "0      56  01779807  0400000US56    56     WY       Wyoming   00   \n",
       "1      02  01785533  0400000US02    02     AK        Alaska   00   \n",
       "2      24  01714934  0400000US24    24     MD      Maryland   00   \n",
       "4      05  00068085  0400000US05    05     AR      Arkansas   00   \n",
       "5      38  01779797  0400000US38    38     ND  North Dakota   00   \n",
       "\n",
       "           aland        awater  \\\n",
       "0   251458712294    1867503716   \n",
       "1  1478942847588  245378425142   \n",
       "2    25151992308    6979074857   \n",
       "4   134660767709    3121950081   \n",
       "5   178694310772    4414779956   \n",
       "\n",
       "                                            geometry  \n",
       "0  POLYGON ((-111.05456 45.00095, -111.04507 45.0...  \n",
       "1  MULTIPOLYGON (((179.48246 51.98284, 179.48657 ...  \n",
       "2  MULTIPOLYGON (((-76.05015 37.98691, -76.04998 ...  \n",
       "4  POLYGON ((-94.61792 36.49941, -94.61765 36.499...  \n",
       "5  POLYGON ((-104.04868 48.86378, -104.04865 48.8...  "
      ]
     },
     "execution_count": 37,
     "metadata": {},
     "output_type": "execute_result"
    }
   ],
   "source": [
    "us_shp.head()"
   ]
  },
  {
   "cell_type": "code",
   "execution_count": 38,
   "id": "1f702771",
   "metadata": {},
   "outputs": [],
   "source": [
    "# join shapefile with year, month, state agg\n",
    "gdf_subset = gpd.GeoDataFrame(df_subset_census_laws.merge(us_shp, left_on=\"state\", right_on=\"name\"))"
   ]
  },
  {
   "cell_type": "code",
   "execution_count": 39,
   "id": "46d05131",
   "metadata": {},
   "outputs": [],
   "source": [
    "# reset index\n",
    "gdf_subset.set_index(\"state_fips\", inplace=True)"
   ]
  },
  {
   "cell_type": "code",
   "execution_count": 40,
   "id": "33b5d503",
   "metadata": {},
   "outputs": [],
   "source": [
    "# make gdf geojson\n",
    "geojson_gdf_subset=gdf_subset.to_json()\n",
    "geojson_gdf_subset=json.loads(geojson_gdf_subset)"
   ]
  },
  {
   "cell_type": "code",
   "execution_count": 42,
   "id": "bb43beb3",
   "metadata": {},
   "outputs": [
    {
     "data": {
      "application/vnd.jupyter.widget-view+json": {
       "model_id": "fe9f65353e3d449cb3cfb1b298defbc8",
       "version_major": 2,
       "version_minor": 0
      },
      "text/plain": [
       "VBox(children=(Map(center=[38, -99], controls=(ZoomControl(options=['position', 'zoom_in_text', 'zoom_in_title…"
      ]
     },
     "metadata": {},
     "output_type": "display_data"
    }
   ],
   "source": [
    "# use function to plot\n",
    "int_choro_ipyleaflet(geojson_gdf_subset, colormap=linear.Blues_07,gdf=gdf_subset, \n",
    "                     value=\"killed_per_1k\",title=\"Killed per 1k\", \n",
    "                     metric=metric, rgb_list=rgb_list)"
   ]
  }
 ],
 "metadata": {
  "kernelspec": {
   "display_name": "Python 3 (ipykernel)",
   "language": "python",
   "name": "python3"
  },
  "language_info": {
   "codemirror_mode": {
    "name": "ipython",
    "version": 3
   },
   "file_extension": ".py",
   "mimetype": "text/x-python",
   "name": "python",
   "nbconvert_exporter": "python",
   "pygments_lexer": "ipython3",
   "version": "3.9.13"
  }
 },
 "nbformat": 4,
 "nbformat_minor": 5
}
