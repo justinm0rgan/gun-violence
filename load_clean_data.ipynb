{
 "cells": [
  {
   "cell_type": "markdown",
   "id": "33f0c973",
   "metadata": {},
   "source": [
    "# Load and clean data\n",
    "\n",
    "This notebook will exclusively deal with loading and cleaning the data for Gun Violence project."
   ]
  },
  {
   "cell_type": "code",
   "execution_count": 168,
   "id": "60909731",
   "metadata": {},
   "outputs": [],
   "source": [
    "# import packages\n",
    "import pandas as pd\n",
    "import geopandas as gpd\n",
    "import contextily as ctx\n",
    "import numpy as np\n",
    "from census import Census\n",
    "from us import states\n",
    "import pickle\n",
    "\n",
    "# import functions\n",
    "import sys\n",
    "# sys.path.append(\"..\")\n",
    "from src import *\n",
    "\n",
    "# filter out warnings\n",
    "import warnings\n",
    "warnings.filterwarnings('ignore')"
   ]
  },
  {
   "cell_type": "code",
   "execution_count": 108,
   "id": "c30ba57e",
   "metadata": {},
   "outputs": [],
   "source": [
    "# general fu\n",
    "def clean_cols(df):\n",
    "    df.columns = [x.lower().replace(\" \",\"_\") for x in df.columns]\n",
    "    return df"
   ]
  },
  {
   "cell_type": "markdown",
   "id": "2d51492c",
   "metadata": {},
   "source": [
    "# Download data"
   ]
  },
  {
   "cell_type": "markdown",
   "id": "646b8897",
   "metadata": {},
   "source": [
    "## Census data\n",
    "\n",
    "Pull in census API key and set to variable\n",
    "<br>\n",
    "Grab population by state from 2020 acs 5 year estimate"
   ]
  },
  {
   "cell_type": "code",
   "execution_count": 21,
   "id": "8fe36b53",
   "metadata": {},
   "outputs": [],
   "source": [
    "# Set API key\n",
    "c = Census(CENSUS_API, year=2020)"
   ]
  },
  {
   "cell_type": "code",
   "execution_count": 44,
   "id": "d3b6fb61",
   "metadata": {},
   "outputs": [],
   "source": [
    "# get population by state\n",
    "us_census = c.acs5.state(('NAME', 'B01003_001E'),state_fips=\"*\")"
   ]
  },
  {
   "cell_type": "code",
   "execution_count": 47,
   "id": "13ff7292",
   "metadata": {},
   "outputs": [
    {
     "data": {
      "text/html": [
       "<div>\n",
       "<style scoped>\n",
       "    .dataframe tbody tr th:only-of-type {\n",
       "        vertical-align: middle;\n",
       "    }\n",
       "\n",
       "    .dataframe tbody tr th {\n",
       "        vertical-align: top;\n",
       "    }\n",
       "\n",
       "    .dataframe thead th {\n",
       "        text-align: right;\n",
       "    }\n",
       "</style>\n",
       "<table border=\"1\" class=\"dataframe\">\n",
       "  <thead>\n",
       "    <tr style=\"text-align: right;\">\n",
       "      <th></th>\n",
       "      <th>NAME</th>\n",
       "      <th>B01003_001E</th>\n",
       "      <th>state</th>\n",
       "    </tr>\n",
       "  </thead>\n",
       "  <tbody>\n",
       "    <tr>\n",
       "      <th>0</th>\n",
       "      <td>Pennsylvania</td>\n",
       "      <td>12794885.0</td>\n",
       "      <td>42</td>\n",
       "    </tr>\n",
       "    <tr>\n",
       "      <th>1</th>\n",
       "      <td>California</td>\n",
       "      <td>39346023.0</td>\n",
       "      <td>06</td>\n",
       "    </tr>\n",
       "    <tr>\n",
       "      <th>2</th>\n",
       "      <td>West Virginia</td>\n",
       "      <td>1807426.0</td>\n",
       "      <td>54</td>\n",
       "    </tr>\n",
       "    <tr>\n",
       "      <th>3</th>\n",
       "      <td>Utah</td>\n",
       "      <td>3151239.0</td>\n",
       "      <td>49</td>\n",
       "    </tr>\n",
       "    <tr>\n",
       "      <th>4</th>\n",
       "      <td>New York</td>\n",
       "      <td>19514849.0</td>\n",
       "      <td>36</td>\n",
       "    </tr>\n",
       "  </tbody>\n",
       "</table>\n",
       "</div>"
      ],
      "text/plain": [
       "            NAME  B01003_001E state\n",
       "0   Pennsylvania   12794885.0    42\n",
       "1     California   39346023.0    06\n",
       "2  West Virginia    1807426.0    54\n",
       "3           Utah    3151239.0    49\n",
       "4       New York   19514849.0    36"
      ]
     },
     "execution_count": 47,
     "metadata": {},
     "output_type": "execute_result"
    }
   ],
   "source": [
    "# create df\n",
    "us_census_df = pd.DataFrame(us_census)\n",
    "\n",
    "# preview\n",
    "us_census_df.head()"
   ]
  },
  {
   "cell_type": "code",
   "execution_count": 49,
   "id": "d9897e15",
   "metadata": {},
   "outputs": [],
   "source": [
    "# rename column\n",
    "us_census_df.rename(columns={\"NAME\":\"state\",\"B01003_001E\":\"Population\",\"state\":\"state_fips\"},\n",
    "                   inplace=True)"
   ]
  },
  {
   "cell_type": "code",
   "execution_count": 111,
   "id": "2bc661c5",
   "metadata": {},
   "outputs": [],
   "source": [
    "# clean columns\n",
    "us_census_df = clean_cols(us_census_df)"
   ]
  },
  {
   "cell_type": "code",
   "execution_count": 124,
   "id": "266c2fce",
   "metadata": {},
   "outputs": [],
   "source": [
    "# drop list\n",
    "drop_census = [\"Alaska\", \"Hawaii\", \"Puerto Rico\"]\n",
    "\n",
    "# drop unecessary values\n",
    "us_census_df = us_census_df[~us_census_df[\"state\"].isin(drop_census)]\n",
    "\n",
    "# reset index\n",
    "us_census_df.reset_index().drop(\"index\", axis=1, inplace=True)"
   ]
  },
  {
   "cell_type": "markdown",
   "id": "1f150797",
   "metadata": {},
   "source": [
    "## Shapefile\n",
    "\n",
    "Get US Shapefile from <a href=\"https://www.census.gov/geographies/mapping-files/time-series/geo/cartographic-boundary.html\">Census.gov</a>"
   ]
  },
  {
   "cell_type": "code",
   "execution_count": 52,
   "id": "43a00196",
   "metadata": {},
   "outputs": [],
   "source": [
    "# download shapfile\n",
    "us_shp=gpd.read_file(\"https://www2.census.gov/geo/tiger/GENZ2021/shp/cb_2021_us_state_500k.zip\")"
   ]
  },
  {
   "cell_type": "code",
   "execution_count": 110,
   "id": "5cf7d518",
   "metadata": {},
   "outputs": [],
   "source": [
    "# clean columns\n",
    "us_shp = clean_cols(us_shp)"
   ]
  },
  {
   "cell_type": "code",
   "execution_count": 106,
   "id": "07e59f69",
   "metadata": {},
   "outputs": [],
   "source": [
    "# set crs\n",
    "us_shp.to_crs(4326, inplace=True)"
   ]
  },
  {
   "cell_type": "code",
   "execution_count": 100,
   "id": "7bee01d9",
   "metadata": {},
   "outputs": [],
   "source": [
    "# create drop list\n",
    "drop_list = [\"American Samoa\",\"Guam\",\"Commonwealth of the Northern Mariana Islands\",\n",
    "             \"United States Virgin Islands\",\"Puerto Rico\",\"Hawaii\",\"Alaska\"]\n",
    "\n",
    "# drop uncessary territories\n",
    "us_shp = us_shp[~us_shp[\"name\"].isin(drop_list)]"
   ]
  },
  {
   "cell_type": "code",
   "execution_count": 135,
   "id": "52147d8e",
   "metadata": {},
   "outputs": [
    {
     "data": {
      "image/png": "[encoded data removed]",
      "text/plain": [
       "<Figure size 1500x2000 with 1 Axes>"
      ]
     },
     "metadata": {},
     "output_type": "display_data"
    }
   ],
   "source": [
    "# add ax with .plot()\n",
    "ax = us_shp.plot(figsize=(15,20), alpha=0.5, edgecolor='k')\n",
    "\n",
    "# add basemap with contextily\n",
    "# set basemap to tile to TonerLite\n",
    "ctx.add_basemap(ax=ax,source=ctx.providers.Stamen.TonerLite) \n",
    "\n",
    "# turn off axis\n",
    "ax.set_axis_off() "
   ]
  },
  {
   "cell_type": "code",
   "execution_count": 101,
   "id": "9bc53fb2",
   "metadata": {},
   "outputs": [
    {
     "data": {
      "text/plain": [
       "35                 Alabama\n",
       "39                 Arizona\n",
       "4                 Arkansas\n",
       "37              California\n",
       "24                Colorado\n",
       "38             Connecticut\n",
       "6                 Delaware\n",
       "29    District of Columbia\n",
       "30                 Florida\n",
       "12                 Georgia\n",
       "17                   Idaho\n",
       "42                Illinois\n",
       "21                 Indiana\n",
       "34                    Iowa\n",
       "11                  Kansas\n",
       "27                Kentucky\n",
       "50               Louisiana\n",
       "51                   Maine\n",
       "2                 Maryland\n",
       "55           Massachusetts\n",
       "36                Michigan\n",
       "14               Minnesota\n",
       "13             Mississippi\n",
       "16                Missouri\n",
       "26                 Montana\n",
       "23                Nebraska\n",
       "31                  Nevada\n",
       "15           New Hampshire\n",
       "22              New Jersey\n",
       "8               New Mexico\n",
       "25                New York\n",
       "54          North Carolina\n",
       "5             North Dakota\n",
       "52                    Ohio\n",
       "20                Oklahoma\n",
       "44                  Oregon\n",
       "19            Pennsylvania\n",
       "45            Rhode Island\n",
       "47          South Carolina\n",
       "18            South Dakota\n",
       "33               Tennessee\n",
       "40                   Texas\n",
       "9                     Utah\n",
       "28                 Vermont\n",
       "41                Virginia\n",
       "48              Washington\n",
       "10           West Virginia\n",
       "53               Wisconsin\n",
       "0                  Wyoming\n",
       "Name: NAME, dtype: object"
      ]
     },
     "execution_count": 101,
     "metadata": {},
     "output_type": "execute_result"
    }
   ],
   "source": [
    "# view states\n",
    "us_shp[\"name\"].sort_values(ascending=True)"
   ]
  },
  {
   "cell_type": "markdown",
   "id": "9b9d9c6f",
   "metadata": {},
   "source": [
    "## Gun laws\n",
    "\n",
    "Data from <a href=\"https://www.statefirearmlaws.org/\">State Firearm Laws</a>"
   ]
  },
  {
   "cell_type": "code",
   "execution_count": 141,
   "id": "4b62f1f6",
   "metadata": {},
   "outputs": [
    {
     "data": {
      "text/html": [
       "<div>\n",
       "<style scoped>\n",
       "    .dataframe tbody tr th:only-of-type {\n",
       "        vertical-align: middle;\n",
       "    }\n",
       "\n",
       "    .dataframe tbody tr th {\n",
       "        vertical-align: top;\n",
       "    }\n",
       "\n",
       "    .dataframe thead th {\n",
       "        text-align: right;\n",
       "    }\n",
       "</style>\n",
       "<table border=\"1\" class=\"dataframe\">\n",
       "  <thead>\n",
       "    <tr style=\"text-align: right;\">\n",
       "      <th></th>\n",
       "      <th>state</th>\n",
       "      <th>year</th>\n",
       "      <th>felony</th>\n",
       "      <th>invcommitment</th>\n",
       "      <th>invoutpatient</th>\n",
       "      <th>danger</th>\n",
       "      <th>drugmisdemeanor</th>\n",
       "      <th>alctreatment</th>\n",
       "      <th>alcoholism</th>\n",
       "      <th>relinquishment</th>\n",
       "      <th>...</th>\n",
       "      <th>expartedating</th>\n",
       "      <th>dvrosurrender</th>\n",
       "      <th>dvrosurrendernoconditions</th>\n",
       "      <th>dvrosurrenderdating</th>\n",
       "      <th>expartesurrender</th>\n",
       "      <th>expartesurrendernoconditions</th>\n",
       "      <th>expartesurrenderdating</th>\n",
       "      <th>dvroremoval</th>\n",
       "      <th>stalking</th>\n",
       "      <th>lawtotal</th>\n",
       "    </tr>\n",
       "  </thead>\n",
       "  <tbody>\n",
       "    <tr>\n",
       "      <th>0</th>\n",
       "      <td>Alabama</td>\n",
       "      <td>1991</td>\n",
       "      <td>0</td>\n",
       "      <td>0</td>\n",
       "      <td>0</td>\n",
       "      <td>0</td>\n",
       "      <td>0</td>\n",
       "      <td>0</td>\n",
       "      <td>1</td>\n",
       "      <td>0</td>\n",
       "      <td>...</td>\n",
       "      <td>0</td>\n",
       "      <td>0</td>\n",
       "      <td>0</td>\n",
       "      <td>0</td>\n",
       "      <td>0</td>\n",
       "      <td>0</td>\n",
       "      <td>0</td>\n",
       "      <td>0</td>\n",
       "      <td>0</td>\n",
       "      <td>15</td>\n",
       "    </tr>\n",
       "    <tr>\n",
       "      <th>1</th>\n",
       "      <td>Alabama</td>\n",
       "      <td>1992</td>\n",
       "      <td>0</td>\n",
       "      <td>0</td>\n",
       "      <td>0</td>\n",
       "      <td>0</td>\n",
       "      <td>0</td>\n",
       "      <td>0</td>\n",
       "      <td>1</td>\n",
       "      <td>0</td>\n",
       "      <td>...</td>\n",
       "      <td>0</td>\n",
       "      <td>0</td>\n",
       "      <td>0</td>\n",
       "      <td>0</td>\n",
       "      <td>0</td>\n",
       "      <td>0</td>\n",
       "      <td>0</td>\n",
       "      <td>0</td>\n",
       "      <td>1</td>\n",
       "      <td>16</td>\n",
       "    </tr>\n",
       "    <tr>\n",
       "      <th>2</th>\n",
       "      <td>Alabama</td>\n",
       "      <td>1993</td>\n",
       "      <td>0</td>\n",
       "      <td>0</td>\n",
       "      <td>0</td>\n",
       "      <td>0</td>\n",
       "      <td>0</td>\n",
       "      <td>0</td>\n",
       "      <td>1</td>\n",
       "      <td>0</td>\n",
       "      <td>...</td>\n",
       "      <td>0</td>\n",
       "      <td>0</td>\n",
       "      <td>0</td>\n",
       "      <td>0</td>\n",
       "      <td>0</td>\n",
       "      <td>0</td>\n",
       "      <td>0</td>\n",
       "      <td>0</td>\n",
       "      <td>1</td>\n",
       "      <td>16</td>\n",
       "    </tr>\n",
       "    <tr>\n",
       "      <th>3</th>\n",
       "      <td>Alabama</td>\n",
       "      <td>1994</td>\n",
       "      <td>0</td>\n",
       "      <td>0</td>\n",
       "      <td>0</td>\n",
       "      <td>0</td>\n",
       "      <td>0</td>\n",
       "      <td>0</td>\n",
       "      <td>1</td>\n",
       "      <td>0</td>\n",
       "      <td>...</td>\n",
       "      <td>0</td>\n",
       "      <td>0</td>\n",
       "      <td>0</td>\n",
       "      <td>0</td>\n",
       "      <td>0</td>\n",
       "      <td>0</td>\n",
       "      <td>0</td>\n",
       "      <td>0</td>\n",
       "      <td>1</td>\n",
       "      <td>16</td>\n",
       "    </tr>\n",
       "    <tr>\n",
       "      <th>4</th>\n",
       "      <td>Alabama</td>\n",
       "      <td>1995</td>\n",
       "      <td>0</td>\n",
       "      <td>0</td>\n",
       "      <td>0</td>\n",
       "      <td>0</td>\n",
       "      <td>0</td>\n",
       "      <td>0</td>\n",
       "      <td>1</td>\n",
       "      <td>0</td>\n",
       "      <td>...</td>\n",
       "      <td>0</td>\n",
       "      <td>0</td>\n",
       "      <td>0</td>\n",
       "      <td>0</td>\n",
       "      <td>0</td>\n",
       "      <td>0</td>\n",
       "      <td>0</td>\n",
       "      <td>0</td>\n",
       "      <td>1</td>\n",
       "      <td>16</td>\n",
       "    </tr>\n",
       "  </tbody>\n",
       "</table>\n",
       "<p>5 rows × 137 columns</p>\n",
       "</div>"
      ],
      "text/plain": [
       "     state  year  felony  invcommitment  invoutpatient  danger  \\\n",
       "0  Alabama  1991       0              0              0       0   \n",
       "1  Alabama  1992       0              0              0       0   \n",
       "2  Alabama  1993       0              0              0       0   \n",
       "3  Alabama  1994       0              0              0       0   \n",
       "4  Alabama  1995       0              0              0       0   \n",
       "\n",
       "   drugmisdemeanor  alctreatment  alcoholism  relinquishment  ...  \\\n",
       "0                0             0           1               0  ...   \n",
       "1                0             0           1               0  ...   \n",
       "2                0             0           1               0  ...   \n",
       "3                0             0           1               0  ...   \n",
       "4                0             0           1               0  ...   \n",
       "\n",
       "   expartedating  dvrosurrender  dvrosurrendernoconditions  \\\n",
       "0              0              0                          0   \n",
       "1              0              0                          0   \n",
       "2              0              0                          0   \n",
       "3              0              0                          0   \n",
       "4              0              0                          0   \n",
       "\n",
       "   dvrosurrenderdating  expartesurrender  expartesurrendernoconditions  \\\n",
       "0                    0                 0                             0   \n",
       "1                    0                 0                             0   \n",
       "2                    0                 0                             0   \n",
       "3                    0                 0                             0   \n",
       "4                    0                 0                             0   \n",
       "\n",
       "   expartesurrenderdating  dvroremoval  stalking  lawtotal  \n",
       "0                       0            0         0        15  \n",
       "1                       0            0         1        16  \n",
       "2                       0            0         1        16  \n",
       "3                       0            0         1        16  \n",
       "4                       0            0         1        16  \n",
       "\n",
       "[5 rows x 137 columns]"
      ]
     },
     "execution_count": 141,
     "metadata": {},
     "output_type": "execute_result"
    }
   ],
   "source": [
    "# download dataset\n",
    "df_gun_laws = pd.read_excel(\"./data/gun_laws.xlsx\")\n",
    "\n",
    "# preview\n",
    "df_gun_laws.head()"
   ]
  },
  {
   "cell_type": "markdown",
   "id": "e6096817",
   "metadata": {},
   "source": [
    "I just want the state and count of gun laws, I do not need more detail then that."
   ]
  },
  {
   "cell_type": "code",
   "execution_count": 157,
   "id": "c0a8fd72",
   "metadata": {},
   "outputs": [],
   "source": [
    "# only need two columns, state and lawtotal\n",
    "# filter by latest year\n",
    "# reset index and drop old index\n",
    "df_gun_laws = df_gun_laws[df_gun_laws[\"year\"] == 2020][[\"state\",\"lawtotal\"]]\\\n",
    ".reset_index().drop(\"index\", axis=1)"
   ]
  },
  {
   "cell_type": "markdown",
   "id": "89e9bd3e",
   "metadata": {},
   "source": [
    "## Gun Violence data\n",
    "\n",
    "Data will be scraped from <a href=\"https://www.gunviolencearchive.org/mass-shooting\">Gun Violence Archive</a>"
   ]
  },
  {
   "cell_type": "code",
   "execution_count": 159,
   "id": "e6203dc4",
   "metadata": {},
   "outputs": [
    {
     "data": {
      "text/html": [
       "<div>\n",
       "<style scoped>\n",
       "    .dataframe tbody tr th:only-of-type {\n",
       "        vertical-align: middle;\n",
       "    }\n",
       "\n",
       "    .dataframe tbody tr th {\n",
       "        vertical-align: top;\n",
       "    }\n",
       "\n",
       "    .dataframe thead th {\n",
       "        text-align: right;\n",
       "    }\n",
       "</style>\n",
       "<table border=\"1\" class=\"dataframe\">\n",
       "  <thead>\n",
       "    <tr style=\"text-align: right;\">\n",
       "      <th></th>\n",
       "      <th>incident_id</th>\n",
       "      <th>incident_date</th>\n",
       "      <th>state</th>\n",
       "      <th>city_or_county</th>\n",
       "      <th>address</th>\n",
       "      <th>#_killed</th>\n",
       "      <th>#_injured</th>\n",
       "      <th>operations</th>\n",
       "    </tr>\n",
       "  </thead>\n",
       "  <tbody>\n",
       "    <tr>\n",
       "      <th>0</th>\n",
       "      <td>2478664</td>\n",
       "      <td>2022-12-11</td>\n",
       "      <td>Illinois</td>\n",
       "      <td>Chicago</td>\n",
       "      <td>5500 block of W School St</td>\n",
       "      <td>3</td>\n",
       "      <td>1</td>\n",
       "      <td>NaN</td>\n",
       "    </tr>\n",
       "    <tr>\n",
       "      <th>1</th>\n",
       "      <td>2478061</td>\n",
       "      <td>2022-12-09</td>\n",
       "      <td>Arizona</td>\n",
       "      <td>Phoenix</td>\n",
       "      <td>S 21st and W Burgess LN</td>\n",
       "      <td>1</td>\n",
       "      <td>3</td>\n",
       "      <td>NaN</td>\n",
       "    </tr>\n",
       "    <tr>\n",
       "      <th>2</th>\n",
       "      <td>2477622</td>\n",
       "      <td>2022-12-08</td>\n",
       "      <td>Michigan</td>\n",
       "      <td>Detroit</td>\n",
       "      <td>1114 Washington Blvd</td>\n",
       "      <td>0</td>\n",
       "      <td>4</td>\n",
       "      <td>NaN</td>\n",
       "    </tr>\n",
       "    <tr>\n",
       "      <th>3</th>\n",
       "      <td>2477404</td>\n",
       "      <td>2022-12-08</td>\n",
       "      <td>Louisiana</td>\n",
       "      <td>New Orleans</td>\n",
       "      <td>4242 Chef Menteur Hwy</td>\n",
       "      <td>0</td>\n",
       "      <td>4</td>\n",
       "      <td>NaN</td>\n",
       "    </tr>\n",
       "    <tr>\n",
       "      <th>4</th>\n",
       "      <td>2475554</td>\n",
       "      <td>2022-12-06</td>\n",
       "      <td>New York</td>\n",
       "      <td>Bronx</td>\n",
       "      <td>Daly Ave and E 180th St</td>\n",
       "      <td>0</td>\n",
       "      <td>4</td>\n",
       "      <td>NaN</td>\n",
       "    </tr>\n",
       "  </tbody>\n",
       "</table>\n",
       "</div>"
      ],
      "text/plain": [
       "   incident_id incident_date      state city_or_county  \\\n",
       "0      2478664    2022-12-11   Illinois        Chicago   \n",
       "1      2478061    2022-12-09    Arizona        Phoenix   \n",
       "2      2477622    2022-12-08   Michigan        Detroit   \n",
       "3      2477404    2022-12-08  Louisiana    New Orleans   \n",
       "4      2475554    2022-12-06   New York          Bronx   \n",
       "\n",
       "                     address  #_killed  #_injured  operations  \n",
       "0  5500 block of W School St         3          1         NaN  \n",
       "1    S 21st and W Burgess LN         1          3         NaN  \n",
       "2       1114 Washington Blvd         0          4         NaN  \n",
       "3      4242 Chef Menteur Hwy         0          4         NaN  \n",
       "4    Daly Ave and E 180th St         0          4         NaN  "
      ]
     },
     "execution_count": 159,
     "metadata": {},
     "output_type": "execute_result"
    }
   ],
   "source": [
    "# import data\n",
    "# have to update selenium py file to save as current date\n",
    "df_gun = pd.read_csv(\"./data/export-cfdc8ebc-e01e-4054-a000-e19841ae9e56.csv\",\n",
    "                parse_dates=['Incident Date'])\n",
    "\n",
    "# clean columns\n",
    "df_gun = clean_cols(df_gun)\n",
    "\n",
    "# preview\n",
    "df_gun.head()"
   ]
  },
  {
   "cell_type": "markdown",
   "id": "2b23cf31",
   "metadata": {},
   "source": [
    "### Missing values, shape, dtypes"
   ]
  },
  {
   "cell_type": "code",
   "execution_count": 57,
   "id": "a0c2c36f",
   "metadata": {},
   "outputs": [
    {
     "name": "stdout",
     "output_type": "stream",
     "text": [
      "<class 'pandas.core.frame.DataFrame'>\n",
      "RangeIndex: 2000 entries, 0 to 1999\n",
      "Data columns (total 8 columns):\n",
      " #   Column          Non-Null Count  Dtype         \n",
      "---  ------          --------------  -----         \n",
      " 0   incident_id     2000 non-null   int64         \n",
      " 1   incident_date   2000 non-null   datetime64[ns]\n",
      " 2   state           2000 non-null   object        \n",
      " 3   city_or_county  2000 non-null   object        \n",
      " 4   address         1990 non-null   object        \n",
      " 5   #_killed        2000 non-null   int64         \n",
      " 6   #_injured       2000 non-null   int64         \n",
      " 7   operations      0 non-null      float64       \n",
      "dtypes: datetime64[ns](1), float64(1), int64(3), object(3)\n",
      "memory usage: 125.1+ KB\n"
     ]
    }
   ],
   "source": [
    "# look at null values and shape\n",
    "df_gun.info()"
   ]
  },
  {
   "cell_type": "markdown",
   "id": "5c470a2c",
   "metadata": {},
   "source": [
    "**Null**\n",
    "<br>\n",
    "Looks like some null values in the `address` column.\n",
    "<br>\n",
    "All `operations` column is null\n",
    "<br>\n",
    "<br>\n",
    "**Shape**\n",
    "<br>\n",
    "2000 rows with 8 columns\n",
    "<br>\n",
    "<br>\n",
    "**Dtypes**\n",
    "<br>\n",
    "- `incident_id`, `#_killed` and `#_injured` is int64 dtype\n",
    "- `incident_date` as datetime\n",
    "- `state`, `city_or_country` and `address` are object\n",
    "- `operations` is float, but its all null"
   ]
  },
  {
   "cell_type": "code",
   "execution_count": 78,
   "id": "bd683651",
   "metadata": {},
   "outputs": [
    {
     "name": "stdout",
     "output_type": "stream",
     "text": [
      "0 Illinois\n",
      "1 Arizona\n",
      "2 Michigan\n",
      "3 Louisiana\n",
      "4 New York\n",
      "5 Georgia\n",
      "6 Texas\n",
      "7 Florida\n",
      "8 Alabama\n",
      "9 California\n",
      "10 Maryland\n",
      "11 Pennsylvania\n",
      "12 Virginia\n",
      "13 Oklahoma\n",
      "14 Colorado\n",
      "15 Mississippi\n",
      "16 Nebraska\n",
      "17 North Carolina\n",
      "18 New Jersey\n",
      "19 Tennessee\n",
      "20 Kansas\n",
      "21 South Carolina\n",
      "22 Ohio\n",
      "23 Missouri\n",
      "24 Wisconsin\n",
      "25 Massachusetts\n",
      "26 Arkansas\n",
      "27 Oregon\n",
      "28 Kentucky\n",
      "29 District of Columbia\n",
      "30 Washington\n",
      "31 Indiana\n",
      "32 Nevada\n",
      "33 Minnesota\n",
      "34 New Mexico\n",
      "35 Delaware\n",
      "36 Connecticut\n",
      "37 Iowa\n",
      "38 South Dakota\n",
      "39 Idaho\n",
      "40 West Virginia\n",
      "41 Rhode Island\n",
      "42 New Hampshire\n",
      "43 Alaska\n",
      "44 Utah\n",
      "45 Maine\n",
      "46 Montana\n"
     ]
    }
   ],
   "source": [
    "counter = 0\n",
    "for x in df_gun[\"state\"].unique():\n",
    "    print(counter, x)\n",
    "    counter += 1\n",
    "    "
   ]
  },
  {
   "cell_type": "code",
   "execution_count": 160,
   "id": "63642764",
   "metadata": {},
   "outputs": [],
   "source": [
    "# drop operations\n",
    "df_gun.drop(columns=\"operations\", inplace=True)"
   ]
  },
  {
   "cell_type": "markdown",
   "id": "01fafb38",
   "metadata": {},
   "source": [
    "Datset seems pretty clean, need to scan it for odd erroneous values that will most likely come to light in visual EDA."
   ]
  },
  {
   "cell_type": "markdown",
   "id": "2de5b57a",
   "metadata": {},
   "source": [
    "## Save datasets"
   ]
  },
  {
   "cell_type": "code",
   "execution_count": 165,
   "id": "83591af8",
   "metadata": {},
   "outputs": [],
   "source": [
    "# pickle datasets\n",
    "df_gun.to_pickle('./data/df_gun')\n",
    "df_gun_laws.to_pickle('./data/df_gun_laws')\n",
    "us_census_df.to_pickle('./data/df_us_census')\n",
    "us_shp.to_file(\"./data/shp/us_shp\")"
   ]
  }
 ],
 "metadata": {
  "kernelspec": {
   "display_name": "Python 3 (ipykernel)",
   "language": "python",
   "name": "python3"
  },
  "language_info": {
   "codemirror_mode": {
    "name": "ipython",
    "version": 3
   },
   "file_extension": ".py",
   "mimetype": "text/x-python",
   "name": "python",
   "nbconvert_exporter": "python",
   "pygments_lexer": "ipython3",
   "version": "3.9.13"
  }
 },
 "nbformat": 4,
 "nbformat_minor": 5
}
